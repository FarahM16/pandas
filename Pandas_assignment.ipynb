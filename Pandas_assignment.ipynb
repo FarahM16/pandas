{
  "nbformat": 4,
  "nbformat_minor": 0,
  "metadata": {
    "colab": {
      "private_outputs": true,
      "provenance": []
    },
    "kernelspec": {
      "name": "python3",
      "display_name": "Python 3"
    },
    "language_info": {
      "name": "python"
    }
  },
  "cells": [
    {
      "cell_type": "markdown",
      "source": [
        "# Explanation of data"
      ],
      "metadata": {
        "id": "D7vv7luF6AI9"
      }
    },
    {
      "cell_type": "markdown",
      "source": [
        "## 1-total_bill:\n",
        "\n",
        "Description: The total amount of the bill (in dollars) for the meal, including the cost of food and drinks.\n",
        "Data Type: Float\n",
        "Example: 16.99\n",
        "## 2-tip:\n",
        "\n",
        "Description: The amount of the tip (in dollars) given by the customer to the server.\n",
        "Data Type: Float\n",
        "Example: 1.01\n",
        "## 3-sex:\n",
        "\n",
        "Description: The gender of the person who paid for the meal.\n",
        "Data Type: Categorical (string)\n",
        "Possible Values: 'Male', 'Female'\n",
        "Example: 'Female'\n",
        "## 4-smoker:\n",
        "\n",
        "Description: Indicates whether there were smokers in the party.\n",
        "Data Type: Categorical (string)\n",
        "Possible Values: 'Yes', 'No'\n",
        "Example: 'No'\n",
        "## 5-day:\n",
        "\n",
        "Description: The day of the week when the meal was served.\n",
        "Data Type: Categorical (string)\n",
        "Possible Values: 'Thur' (Thursday), 'Fri' (Friday), 'Sat' (Saturday), 'Sun' (Sunday)\n",
        "Example: 'Sun'\n",
        "## 6-time:\n",
        "\n",
        "Description: The time of day when the meal was served.\n",
        "Data Type: Categorical (string)\n",
        "Possible Values: 'Lunch', 'Dinner'\n",
        "Example: 'Dinner'\n",
        "## 7-size:\n",
        "\n",
        "Description: The number of people in the party.\n",
        "Data Type: Integer\n",
        "Example: 2"
      ],
      "metadata": {
        "id": "KNHUt5m45s9k"
      }
    },
    {
      "cell_type": "markdown",
      "source": [
        "## Load the dataset"
      ],
      "metadata": {
        "id": "X_cxp0rIzH6Y"
      }
    },
    {
      "cell_type": "code",
      "source": [
        "import pandas as pd\n",
        "import numpy as np\n",
        "import seaborn as sns"
      ],
      "metadata": {
        "id": "JGsDBQLfTgyR"
      },
      "execution_count": null,
      "outputs": []
    },
    {
      "cell_type": "code",
      "source": [
        "df=pd.read_csv(\"/content/tips.csv\")"
      ],
      "metadata": {
        "id": "0BPB9YAPTgjb"
      },
      "execution_count": null,
      "outputs": []
    },
    {
      "cell_type": "code",
      "source": [
        "df"
      ],
      "metadata": {
        "id": "-DvSKWBfNVeB"
      },
      "execution_count": null,
      "outputs": []
    },
    {
      "cell_type": "markdown",
      "source": [
        "## Display the first few rows"
      ],
      "metadata": {
        "id": "4pSqsPPKzMI-"
      }
    },
    {
      "cell_type": "code",
      "source": [
        "df.head()"
      ],
      "metadata": {
        "id": "jtQ6av0-Lm94"
      },
      "execution_count": null,
      "outputs": []
    },
    {
      "cell_type": "markdown",
      "source": [
        "## Question 1: What is the average total bill amount?"
      ],
      "metadata": {
        "id": "QnWpnuZpzWnw"
      }
    },
    {
      "cell_type": "code",
      "source": [
        "df[\"total_bill\"].mean()"
      ],
      "metadata": {
        "id": "wWVoBoI4Qv82"
      },
      "execution_count": null,
      "outputs": []
    },
    {
      "cell_type": "markdown",
      "source": [
        "## Question 2: How many records are in the dataset?\n"
      ],
      "metadata": {
        "id": "JHCnMe-kzk20"
      }
    },
    {
      "cell_type": "code",
      "source": [
        "len(df)"
      ],
      "metadata": {
        "id": "LKZ3TS5yRI4J"
      },
      "execution_count": null,
      "outputs": []
    },
    {
      "cell_type": "markdown",
      "source": [
        "## Question 3: What is the total amount of tips given by male customers?\n"
      ],
      "metadata": {
        "id": "SPo07k6SzoI2"
      }
    },
    {
      "cell_type": "code",
      "source": [
        "df[df[\"sex\"]==\"Male\"][\"tip\"].sum()"
      ],
      "metadata": {
        "id": "ct4cJq1RSKLG"
      },
      "execution_count": null,
      "outputs": []
    },
    {
      "cell_type": "markdown",
      "source": [
        "## Question 4: What is the maximum tip given?\n"
      ],
      "metadata": {
        "id": "1VacIheWzxVx"
      }
    },
    {
      "cell_type": "code",
      "source": [
        "df[\"tip\"].max()"
      ],
      "metadata": {
        "id": "p1_X_d0bNkgA"
      },
      "execution_count": null,
      "outputs": []
    },
    {
      "cell_type": "markdown",
      "source": [
        "## Question 5: What are the unique days on which the tips were recorded?\n"
      ],
      "metadata": {
        "id": "BpjN-WYaz1Zb"
      }
    },
    {
      "cell_type": "code",
      "source": [
        "df[\"day\"].unique()"
      ],
      "metadata": {
        "id": "dvUDizF2N1J4"
      },
      "execution_count": null,
      "outputs": []
    },
    {
      "cell_type": "markdown",
      "source": [
        "## Question 6: What is the average tip amount given by female customers?\n"
      ],
      "metadata": {
        "id": "G5o62RuK0oSi"
      }
    },
    {
      "cell_type": "code",
      "source": [
        "df[df[\"sex\"]==\"Female\"][\"tip\"].mean()"
      ],
      "metadata": {
        "id": "StA-JsqPXOCc"
      },
      "execution_count": null,
      "outputs": []
    },
    {
      "cell_type": "markdown",
      "source": [
        "## Question 7: How many customers are non-smokers?\n"
      ],
      "metadata": {
        "id": "rcr7bhgL0tEf"
      }
    },
    {
      "cell_type": "code",
      "source": [
        "len(df[df[\"smoker\"]==\"No\"])"
      ],
      "metadata": {
        "id": "Qwsok2SAdKFD"
      },
      "execution_count": null,
      "outputs": []
    },
    {
      "cell_type": "markdown",
      "source": [
        "## Question 8: What is the average total bill for dinners?\n"
      ],
      "metadata": {
        "id": "TX7HPM790yz3"
      }
    },
    {
      "cell_type": "code",
      "source": [
        "df[df[\"time\"]==\"Dinner\"][\"tip\"].mean()"
      ],
      "metadata": {
        "id": "_Ni61aJyeTlg"
      },
      "execution_count": null,
      "outputs": []
    },
    {
      "cell_type": "markdown",
      "source": [
        "## Question 9: What is the smallest size of a group recorded?\n"
      ],
      "metadata": {
        "id": "PUKHp45z04H8"
      }
    },
    {
      "cell_type": "code",
      "source": [
        "df[\"size\"].min()"
      ],
      "metadata": {
        "id": "j0o00yQOfhlw"
      },
      "execution_count": null,
      "outputs": []
    },
    {
      "cell_type": "markdown",
      "source": [
        "## Question 10: What is the standard deviation of the total bill amounts?\n"
      ],
      "metadata": {
        "id": "b5CzsW2-1H5D"
      }
    },
    {
      "cell_type": "code",
      "source": [
        "df[\"total_bill\"].std()"
      ],
      "metadata": {
        "id": "Syq2XNxIgVkg"
      },
      "execution_count": null,
      "outputs": []
    },
    {
      "cell_type": "markdown",
      "source": [
        "## Question 11: How many male smokers are there compared to female smokers?\n"
      ],
      "metadata": {
        "id": "YSNjWBeD1lc-"
      }
    },
    {
      "cell_type": "code",
      "source": [
        "df.groupby([\"sex\",\"smoker\"]).agg({\"smoker\":\"count\"})"
      ],
      "metadata": {
        "id": "dZtspKYqyf8c"
      },
      "execution_count": null,
      "outputs": []
    },
    {
      "cell_type": "markdown",
      "source": [
        "## Question 12: How much more do male customers tip on average than female customers?"
      ],
      "metadata": {
        "id": "dpN7kz5_2gra"
      }
    },
    {
      "cell_type": "code",
      "source": [
        "df.groupby(\"sex\").agg({\"tip\":[\"mean\",\"max\"]})"
      ],
      "metadata": {
        "id": "fA0WJJyY1ZvH"
      },
      "execution_count": null,
      "outputs": []
    },
    {
      "cell_type": "markdown",
      "source": [
        "## Question 13: What is the median tip amount given by customers on Thursdays?"
      ],
      "metadata": {
        "id": "b7mTBmr_2ruR"
      }
    },
    {
      "cell_type": "code",
      "source": [
        "df[df[\"day\"]==\"Thur\"][\"tip\"].median()"
      ],
      "metadata": {
        "id": "obSC56gA3Nr7"
      },
      "execution_count": null,
      "outputs": []
    },
    {
      "cell_type": "markdown",
      "source": [
        "## Question 14: What is the total tip amount given by customers on Friday?\n"
      ],
      "metadata": {
        "id": "QHElT5hT20Oy"
      }
    },
    {
      "cell_type": "code",
      "source": [
        "df[df[\"day\"]==\"Fri\"][\"tip\"].count()"
      ],
      "metadata": {
        "id": "za26SJ7W-Uhl"
      },
      "execution_count": null,
      "outputs": []
    },
    {
      "cell_type": "markdown",
      "source": [
        "## Question 15: What is the average tip amount for non-smokers during dinner time?"
      ],
      "metadata": {
        "id": "TrGCWY4M3BXA"
      }
    },
    {
      "cell_type": "code",
      "source": [
        "dinner_tips = df[df['time']=='Dinner']\n",
        "dinner_tips.groupby(\"smoker\")['tip'].mean()"
      ],
      "metadata": {
        "id": "K_aCd8Yh-zOO"
      },
      "execution_count": null,
      "outputs": []
    },
    {
      "cell_type": "markdown",
      "source": [
        "## Question 16: How much does the total bill vary between smokers and non-smokers?"
      ],
      "metadata": {
        "id": "GX4IpGLw3apS"
      }
    },
    {
      "cell_type": "code",
      "source": [
        "df.groupby(\"smoker\")['total_bill'].count()"
      ],
      "metadata": {
        "id": "Shj-AUViH1iQ"
      },
      "execution_count": null,
      "outputs": []
    },
    {
      "cell_type": "markdown",
      "source": [
        "## Question 17: What is the most common day for customers to visit the restaurant?"
      ],
      "metadata": {
        "id": "sk1RdKdA3gjW"
      }
    },
    {
      "cell_type": "code",
      "source": [
        "df['day'].value_counts().idxmax()"
      ],
      "metadata": {
        "id": "UFDxwHc1IHvl"
      },
      "execution_count": null,
      "outputs": []
    },
    {
      "cell_type": "markdown",
      "source": [
        "## Question 18: What is the range of tip amounts for female customers?\n"
      ],
      "metadata": {
        "id": "JZPzrSv13s5l"
      }
    },
    {
      "cell_type": "code",
      "source": [
        "df[df[\"sex\"]==\"Female\"][\"tip\"].max() - df[df[\"sex\"]==\"Female\"][\"tip\"].min()"
      ],
      "metadata": {
        "id": "Q1hxxDbGUJ2r"
      },
      "execution_count": null,
      "outputs": []
    },
    {
      "cell_type": "markdown",
      "source": [
        "## Question 19: Calculate the total bill for parties of 5 or more people (size).\n"
      ],
      "metadata": {
        "id": "9Ph119P83yt9"
      }
    },
    {
      "cell_type": "code",
      "source": [
        "df[df[\"size\"]>= 5][\"total_bill\"].sum()"
      ],
      "metadata": {
        "id": "9FM7IvgHVXXn"
      },
      "execution_count": null,
      "outputs": []
    },
    {
      "cell_type": "markdown",
      "source": [
        "## Question 20: What is the highest total bill recorded during lunch?\n"
      ],
      "metadata": {
        "id": "yzo5Sqdk39Aw"
      }
    },
    {
      "cell_type": "code",
      "source": [
        "df[df[\"time\"]==\"Lunch\"][\"total_bill\"].max()"
      ],
      "metadata": {
        "id": "rleXPQalWKec"
      },
      "execution_count": null,
      "outputs": []
    },
    {
      "cell_type": "markdown",
      "source": [
        "## Question 21: How many customers visited the restaurant on weekends (Saturday and Sunday) and ordered a total bill of more than $20?"
      ],
      "metadata": {
        "id": "4MeSEXbB4HG8"
      }
    },
    {
      "cell_type": "code",
      "source": [
        "# prompt: How many customers visited the restaurant on weekends (Saturday and Sunday) and ordered a total bill of more than $20?\n",
        "\n",
        "weekend_visits= df[(df['day'].isin(['Sat', 'Sun'])) & (df['total_bill'] > 20)]\n",
        "len(weekend_visits)\n"
      ],
      "metadata": {
        "id": "NVfE9ShSZz61"
      },
      "execution_count": null,
      "outputs": []
    }
  ]
}